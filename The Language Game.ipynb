{
 "cells": [
  {
   "cell_type": "markdown",
   "id": "881bafa0",
   "metadata": {},
   "source": [
    "# Steph's Language Quiz\n",
    "###### Learn Japanese or Chinese"
   ]
  },
  {
   "cell_type": "markdown",
   "id": "84c07b97-da86-45c1-a1d4-87ce4d6c74ac",
   "metadata": {},
   "source": [
    "### Run this to begin a new game or load your progress:"
   ]
  },
  {
   "cell_type": "code",
   "execution_count": 1,
   "id": "e9a12ece-dccf-4795-8f7f-abf7b4e4bc7d",
   "metadata": {
    "tags": []
   },
   "outputs": [
    {
     "name": "stdin",
     "output_type": "stream",
     "text": [
      "Enter name(case sensitive):  chris\n"
     ]
    },
    {
     "name": "stdout",
     "output_type": "stream",
     "text": [
      "chris: new player\n"
     ]
    }
   ],
   "source": [
    "# Run me!\n",
    "import pandas as pd\n",
    "import os.path\n",
    "name = input(\"Enter name(case sensitive): \")\n",
    "\n",
    "path = name + \"'s progress.csv\"\n",
    "if os.path.isfile(path) == True:\n",
    "    df = pd.read_csv(name + \"'s progress.csv\")\n",
    "    print(name + \": player found\")\n",
    "else:\n",
    "    print(name + \": new player\")\n",
    "    # List of Japanese words along with their English translations and Romanized versions (Romanji)\n",
    "    japanese_words = [\n",
    "    (\"一\", \"いち\", \"ichi\", \"One\"),\n",
    "    (\"二\", \"に\", \"ni\", \"Two\"),\n",
    "    (\"三\", \"さん\", \"san\", \"Three\"),\n",
    "    (\"四\", \"し\", \"shi\", \"Four\"),\n",
    "    (\"五\", \"ご\", \"go\", \"Five\"),\n",
    "    (\"六\", \"ろく\", \"roku\", \"Six\"),\n",
    "    (\"七\", \"しち\", \"shichi\", \"Seven\"),\n",
    "    (\"八\", \"はち\", \"hachi\", \"Eight\"),\n",
    "    (\"九\", \"きゅう\", \"kyuu\", \"Nine\"),\n",
    "    (\"十\", \"じゅう\", \"juu\", \"Ten\"),\n",
    "    (\"百\", \"ひゃく\", \"hyaku\", \"Hundred\"),\n",
    "    (\"千\", \"せん\", \"sen\", \"Thousand\"),\n",
    "    (\"万\", \"まん\", \"man\", \"Ten thousand\"),\n",
    "    (\"父\", \"ちち\", \"chichi\", \"Father\"),\n",
    "    (\"友\", \"とも\", \"tomo\", \"Friend\"),\n",
    "    (\"母\", \"はは\", \"haha\", \"Mother\"),\n",
    "    (\"女\", \"おんな\", \"onna\", \"Woman\", \"Female\"),\n",
    "    (\"男\", \"おとこ\", \"otoko\", \"Man\", \"Male\"),\n",
    "    (\"人\", \"ひと\", \"hito\", \"Person\"),\n",
    "    (\"子\", \"こ\", \"ko\", \"Child\"),\n",
    "    (\"日\", \"ひ\", \"hi\", \"Day\", \"Sun\"),\n",
    "    (\"月\", \"つき\", \"tsuki\", \"Month\", \"Moon\"),\n",
    "    (\"火\", \"ひ\", \"hi\", \"Fire\"),\n",
    "    (\"水\", \"みず\", \"mizu\", \"Water\"),\n",
    "    (\"木\", \"き\", \"ki\", \"Tree\", \"Wood\"),\n",
    "    (\"金\", \"きん\", \"kin\", \"Gold\", \"Metal\"),\n",
    "    (\"土\", \"つち\", \"tsuchi\", \"Soil\", \"Earth\"),\n",
    "    (\"語\", \"ご\", \"go\", \"Language\", \"Word\"),\n",
    "    (\"年\", \"ねん\", \"nen\", \"Year\"),\n",
    "    (\"午\", \"うま\", \"uma\", \"Noon\", \"Horse\"),\n",
    "    (\"前\", \"まえ\", \"mae\", \"Front\", \"Before\"),\n",
    "    (\"後\", \"あと\", \"ato\", \"After\", \"Behind\"),\n",
    "    (\"時\", \"じ\", \"ji\", \"Time\", \"Hour\"),\n",
    "    (\"間\", \"あいだ\", \"aida\", \"Interval\", \"Space\"),\n",
    "    (\"毎\", \"まい\", \"mai\", \"Every\"),\n",
    "    (\"何\", \"なに\", \"nani\", \"What\"),\n",
    "    (\"上\", \"うえ\", \"ue\", \"Above\", \"On\"),\n",
    "    (\"下\", \"した\", \"shita\", \"Below\", \"Under\"),\n",
    "    (\"左\", \"ひだり\", \"hidari\", \"Left\"),\n",
    "    (\"右\", \"みぎ\", \"migi\", \"Right\"),\n",
    "    (\"西\", \"にし\", \"nishi\", \"West\"),\n",
    "    (\"南\", \"みなみ\", \"minami\", \"South\"),\n",
    "    (\"北\", \"きた\", \"kita\", \"North\"),\n",
    "    (\"外\", \"そと\", \"soto\", \"Outside\", \"Foreign\"),\n",
    "    (\"名\", \"な\", \"na\", \"Name\"),\n",
    "    (\"高\", \"たか\", \"taka\", \"Tall\", \"High\"),\n",
    "    (\"小\", \"ちい\", \"chii\", \"Small\", \"Little\"),\n",
    "    (\"中\", \"なか\", \"naka\", \"Middle\", \"Inside\"),\n",
    "    (\"大\", \"おお\", \"oo\", \"Big\", \"Large\"),\n",
    "    (\"長\", \"なが\", \"naga\", \"Long\"),\n",
    "    (\"半\", \"はん\", \"han\", \"Half\"),\n",
    "    (\"分\", \"ふん\", \"fun\", \"Minute\",\"Part\"),\n",
    "    (\"学\", \"がく\", \"gaku\", \"Study\", \"Learning\"),\n",
    "    (\"校\", \"こう\", \"kou\", \"School\"),\n",
    "    (\"生\", \"せい\", \"sei\", \"Life\", \"Raw\"),\n",
    "    (\"山\", \"やま\", \"yama\", \"Mountain\"),\n",
    "    (\"川\", \"かわ\", \"kawa\", \"River\"),\n",
    "    (\"白\", \"しろ\", \"shiro\", \"White\"),\n",
    "    (\"天\", \"てん\", \"ten\", \"Heaven\", \"Sky\"),\n",
    "    (\"雨\", \"あめ\", \"ame\", \"Rain\"),\n",
    "    (\"電\", \"でん\", \"den\", \"Electricity\"),\n",
    "    (\"気\", \"き\", \"ki\", \"Spirit\", \"Air\"),\n",
    "    (\"車\", \"くるま\", \"kuruma\", \"Car\", \"Vehicle\"),\n",
    "    (\"国\", \"くに\", \"kuni\", \"Country\"),\n",
    "    (\"円\", \"えん\", \"en\", \"Yen\"),\n",
    "    (\"話\", \"はなし\", \"hanashi\", \"Talk\", \"Story\"),\n",
    "    (\"聞\", \"き\", \"ki\", \"Listen\", \"Ask\"),\n",
    "    (\"食\", \"たべ\", \"tabe\", \"Eat\", \"Food\"),\n",
    "    (\"読\", \"よ\", \"yo\", \"Read\"),\n",
    "    (\"来\", \"く\", \"ku\", \"Come\"),\n",
    "    (\"書\", \"か\", \"ka\", \"Write\", \"Book\"),\n",
    "    (\"見\", \"み\", \"mi\", \"See\", \"Look\"),\n",
    "    (\"行\", \"い\", \"i\", \"Go\"),\n",
    "    (\"出\", \"で\", \"de\", \"Exit\", \"Leave\"),\n",
    "    (\"入\", \"い\", \"i\", \"Enter\", \"Insert\"),\n",
    "    (\"会\", \"か\", \"ka\", \"Meet\", \"Party\"),\n",
    "    (\"青\", \"あお\", \"ao\", \"Blue\", \"Green\"),\n",
    "    (\"赤\", \"あか\", \"aka\", \"Red\"),\n",
    "    (\"明\", \"あか\", \"aka\", \"Bright\", \"Clear\"),\n",
    "    (\"秋\", \"あき\", \"aki\", \"Autumn\", \"Fall\"),\n",
    "    (\"空\", \"そら\", \"sora\", \"Sky\"),\n",
    "    (\"開\", \"ひら\", \"hira\", \"Open\"),\n",
    "    (\"悪\", \"わる\", \"waru\", \"Bad\", \"Evil\"),\n",
    "    (\"朝\", \"あさ\", \"asa\", \"Morning\"),\n",
    "    (\"字\", \"じ\", \"ji\", \"Character\", \"Letter\"),\n",
    "    (\"足\", \"あし\", \"ashi\", \"Foot\", \"Leg\"),\n",
    "    (\"味\", \"あじ\", \"aji\", \"Taste\", \"Flavor\"),\n",
    "    (\"新\", \"あたら\", \"atarashi\", \"New\"),\n",
    "    (\"兄\", \"あに\", \"ani\", \"Older brother\",\"Big brother\"),\n",
    "    (\"姉\", \"あね\", \"ane\", \"Older sister\",\"Big sister\"),\n",
    "    (\"歩\", \"ある\", \"aru\", \"Walk\"),\n",
    "    (\"有\", \"ある\", \"aru\", \"Exist\", \"Have\"),\n",
    "    (\"安\", \"やす\", \"yasu\", \"Peace\", \"Cheap\"),\n",
    "    (\"医\", \"い\", \"i\", \"Doctor\"),\n",
    "    (\"集\", \"あつ\", \"atsu\", \"Gather\", \"Collect\"),\n",
    "    (\"本\", \"ほん\", \"hon\", \"Book\"),\n",
    "    (\"休\", \"やす\", \"yasu\", \"Rest\", \"Holiday\"),\n",
    "    (\"先\", \"さき\", \"saki\", \"Previous\", \"Ahead\"),\n",
    "    (\"今\", \"いま\", \"ima\", \"Now\"),\n",
    "    (\"東\", \"ひがし\", \"higashi\", \"East\")\n",
    "    ]\n",
    "    # print(len(japanese_words))\n",
    "    \n",
    "    # Create the DataFrame with appropriate column names\n",
    "jp_dict = {}\n",
    "jp_dict[\"kanji\"] = pd.DataFrame(japanese_words, columns=[\"Kanji\", \"Hiragana\", \"Romanji\", \"English1\",\"English2\"])\n",
    "jp_dict[\"kanji\"][\"Difficulty\"] = \"unknown\"\n",
    "jp_dict[\"kanji\"][\"Kanji number\"] = jp_dict[\"kanji\"].index + 1\n",
    "winner = \"*                                 ※\\(^o^)/※  woooooooooooooo!! Game complete!!                                    *\"\n",
    "border1 = \"*********************************************************************************************************************\"\n",
    "border2 = \"*                                                                                                                   *\"\n",
    "\n",
    "\n",
    "japanese_phrases = [\n",
    "    (\"こんにちは\", \"こんにちは\", \"Konnichiwa\", \"Hello\"),\n",
    "    (\"おはようございます\", \"おはようございます\", \"Ohayou gozaimasu\", \"Good morning\"),\n",
    "    (\"こんばんは\", \"こんばんは\", \"Konbanwa\", \"Good evening\"),\n",
    "    (\"ありがとう\", \"ありがとう\", \"Arigatou\", \"Thank you\"),\n",
    "    (\"すみません\", \"すみません\", \"Sumimasen\", \"Excuse me\",\"I'm sorry\"),\n",
    "    (\"いいえ\", \"いいえ\", \"Iie\", \"No\",\"Not at all\"),\n",
    "    (\"はい\", \"はい\", \"Hai\", \"Yes\"),\n",
    "    (\"お願いします\", \"おねがいします\", \"Onegaishimasu\", \"Please\"),\n",
    "    (\"どういたしまして\", \"どういたしまして\", \"Douitashimashite\", \"You're welcome\"),\n",
    "    (\"お元気ですか？\", \"おげんきですか\", \"Ogenki desu ka?\", \"How are you?\"),\n",
    "    (\"お名前は何ですか？\", \"おなまえはなんですか？\", \"O-namae wa nan desu ka?\", \"What is your name?\",\"what's your name\"),\n",
    "    (\"分かりません\", \"分かりません\", \"Wakarimasen\", \"I don't understand\"),\n",
    "    (\"おいしいです\", \"おいしいです\", \"Oishii desu\", \"It's delicious\"),\n",
    "    (\"すてきですね\", \"すてきですね\", \"Suteki desu\", \"It's lovely\"),\n",
    "    (\"いってきます\", \"いってきます\", \"Ittekimasu\", \"I'm off\",\"a phrase used when leaving\"),\n",
    "    (\"ただいま\", \"ただいま\", \"Tadaima\", \"I'm back\",\"a phrase used when returning\"),\n",
    "    (\"おやすみなさい\", \"おやすみなさい\", \"Oyasumi nasai\", \"Good night\"),\n",
    "    (\"どうぞ\", \"どうぞ\", \"Douzo\", \"Here you go\",\"Please have it\"),\n",
    "    (\"お疲れ様です\", \"おつかれさまです\", \"Otsukaresama desu\", \"Thank you for your hard work\"),\n",
    "    (\"がんばってください\", \"がんばってください\", \"Ganbatte kudasai\", \"Please do your best\",\"Good luck\"),\n",
    "    (\"わかります\", \"わかります\", \"Wakarimasu\", \"I understand\"),\n",
    "    (\"お願い\", \"おねがい\", \"Onegai\", \"Please\"),\n",
    "    (\"ありがとうありがとう\", \"ありがとう\", \"Arigatou arigatou\", \"Thank you very much\"),\n",
    "    (\"ごめんなさい\", \"ごめんなさい\", \"Gomen nasai\", \"I'm sorry\"),\n",
    "    (\"大丈夫\", \"だいじょうぶ\", \"Daijoubu\", \"OK\", \"okay\"),\n",
    "    (\"元気です\", \"げんきです\", \"Genki desu\", \"I'm fine\", \"I'm well\"),\n",
    "    (\"どうしたの?\", \"どうしたの?\", \"Doushita no?\", \"What's wrong?\"),\n",
    "    (\"どうぞお召し上がりください\", \"どうぞおめしあがりください\", \"Douzo omeshiagari kudasai\", \"Please enjoy your meal\"),\n",
    "    (\"おやつ\", \"おやつ\", \"Oyatsu\", \"Snack\"),\n",
    "    (\"いただきます\", \"いただきます\", \"Itadakimasu\", \"Let's eat\", \"Thank you for the food\"),\n",
    "    (\"ごちそうさまでした\", \"ごちそうさまでした\", \"Gochisousama deshita\", \"Thank you for the meal (after a meal),\"),\n",
    "    (\"すごい\", \"すごい\", \"Sugoi\", \"Amazing\", \"Awesome\"),\n",
    "    (\"わかりました\", \"わかりました\", \"Wakarimashita\", \"I understood\"),\n",
    "    (\"楽しいです\", \"たのしいです\", \"Tanoshii desu\", \"It's fun\", \"It's enjoyable\"),\n",
    "    (\"わかりませんでした\", \"わかりませんでした\", \"Wakarimasen deshita\", \"I didn't understand\"),\n",
    "    (\"おめでとう\", \"おめでとう\", \"Omedetou\", \"Congratulations\"),\n",
    "    (\"いいえ、けっこうです\", \"いいえ、けっこうです\", \"Iie, kekkou desu\", \"No, thank you\"),\n",
    "    (\"お誕生日おめでとうございます\", \"おたんじょうびおめでとうございます\", \"O-tanjoubi omedetou gozaimasu\", \"Happy birthday\"),\n",
    "    (\"どうでもいい\", \"どうでもいい\", \"Dou demo ii\", \"It doesn't matter\"),\n",
    "    (\"あの\", \"あの\", \"Ano\", \"Um...\"),\n",
    "    (\"大好き\", \"だいすき\", \"Daisuki\", \"I love you\"),\n",
    "    (\"待って\", \"まって\", \"Matte\", \"Wait\"),\n",
    "    (\"もちろん\", \"もちろん\", \"Mochiron\", \"Of course\"),\n",
    "    (\"いいえ、問題ありません\", \"いいえ、もんだいありません\", \"Iie, mondai arimasen\", \"No problem\"),\n",
    "    (\"とても良かった\", \"とてもよかった\", \"Totemo yokatta\", \"It was very good\"),\n",
    "    (\"どのくらいですか？\", \"どのくらいですか\", \"Dono kurai desu ka?\", \"How much is it?\"),\n",
    "    (\"わかりません\", \"わかりません\", \"Wakarimasen\", \"I don't know\"),\n",
    "    (\"見てください\", \"みてください\", \"Mite kudasai\", \"Please look\",\"Please watch\"),\n",
    "    (\"いくらですか？\", \"いくらですか\", \"Ikura desu ka?\", \"How much is it?\"),\n",
    "    (\"どこですか？\", \"どこですか\", \"Doko desu ka?\", \"Where is it?\"),\n",
    "    (\"すてきな一日を\", \"すてきないちにちを\", \"Suteki na ichinichi o\", \"Have a wonderful day\"),\n",
    "    (\"いい夢を\", \"いいゆめを\", \"Ii yume o\", \"Sweet dreams\"),\n",
    "    (\"電話番号は何ですか？\", \"でんわばんごうはなんですか\", \"Denwa bangou wa nan desu ka?\", \"What is your phone number?\"),\n",
    "    (\"ここで写真を撮ってもいいですか？\", \"ここでしゃしんをとってもいいですか\", \"Koko de shashin o totte mo ii desu ka?\", \"Can I take a photo here?\"),\n",
    "    (\"どちらへ行けばいいですか？\", \"どちらへいけばいいですか\", \"Dochira e ikeba ii desu ka?\", \"Which way should I go?\"),\n",
    "    (\"手伝っていただけませんか？\", \"てつだっていただけませんか\", \"Tetsudatte itadakemasen ka?\", \"Could you please help me?\"),\n",
    "    (\"何歳ですか？\", \"なんさいですか\", \"Nan sai desu ka?\", \"How old are you?\"),\n",
    "    (\"会話を練習したいです\", \"かいわをれんしゅうしたいです\", \"Kaiwa o renshuu shitai desu\", \"I want to practice conversation\"),\n",
    "    (\"今何時ですか？\", \"いまなんじですか\", \"Ima nan ji desu ka?\", \"What time is it now?\")]\n",
    "\n",
    "# Create the DataFrame with appropriate column names\n",
    "jp_dict[\"phrases\"] = pd.DataFrame(japanese_phrases, columns=[\"Kanji\", \"Hiragana\", \"Romanji\", \"English1\",\"English2\"])\n",
    "jp_dict[\"phrases\"][\"Difficulty\"] = \"unknown\"\n",
    "jp_dict[\"phrases\"][\"Kanji number\"] = jp_dict[\"phrases\"].index + 1\n",
    "# display(jp_dict[\"phrases\"])\n",
    "\n",
    "chinese_words = [\n",
    "    (\"你好\", \"\", \"Nǐ hǎo\", \"Hello\"),\n",
    "    (\"谢谢\", \"\", \"Xièxiè\", \"Thank you\"),\n",
    "    (\"早上好\", \"\", \"Zǎoshang hǎo\", \"Good morning\"),\n",
    "    (\"晚上好\", \"\", \"Wǎnshàng hǎo\", \"Good evening\"),\n",
    "    (\"是\", \"\", \"Shì\", \"Yes\", \"To be\"),\n",
    "    (\"不是\", \"\", \"Bù shì\", \"No\", \"Not to be\"),\n",
    "    (\"请\", \"\", \"Qǐng\", \"Please\"),\n",
    "    (\"对不起\", \"\", \"Duìbùqǐ\", \"sorry\", \"Excuse me\"),\n",
    "    (\"没关系\", \"\", \"Méi guānxi\", \"Its okay\", \"No problem\"),\n",
    "    (\"有\", \"\", \"Yǒu\", \"Have\", \"There is\"),\n",
    "    (\"没有\", \"\", \"Méiyǒu\", \"Don't have\", \"There isn't\"),\n",
    "    (\"好吃\", \"\", \"Hǎochī\", \"Delicious\"),\n",
    "    (\"好喝\", \"\", \"Hǎo hē\", \"Tasty\"),\n",
    "    (\"爱\", \"\", \"Ài\", \"Love\"),\n",
    "    (\"青春\", \"\", \"Qīngchūn\", \"Youth\"),\n",
    "    (\"学习\", \"\", \"Xuéxí\", \"Study \", \"Learn\"),\n",
    "    (\"朋友\", \"\", \"Péngyǒu\", \"Friend\"),\n",
    "    (\"家\", \"\", \"Jiā\", \"Family\", \"Home\"),\n",
    "    (\"钱\", \"\", \"Qián\", \"Money\"),\n",
    "    (\"时间\", \"\", \"Shíjiān\", \"Time\"),\n",
    "    (\"生日\", \"\", \"Shēngrì\", \"Birthday\"),\n",
    "    (\"食物\", \"\", \"Shíwù\", \"Food\"),\n",
    "    (\"帮助\", \"\", \"Bāngzhù\", \"Help\"),\n",
    "    (\"电话\", \"\", \"Diànhuà\", \"Telephone\", \"Phone\"),\n",
    "    (\"天气\", \"\", \"Tiānqì\", \"Weather\")\n",
    "]\n",
    "\n",
    "    # Create the DataFrame with appropriate column names\n",
    "jp_dict[\"chinese\"] = pd.DataFrame(chinese_words, columns=[\"Kanji\", \"Hiragana\", \"Romanji\", \"English1\",\"English2\"])\n",
    "jp_dict[\"chinese\"][\"Difficulty\"] = \"unknown\"\n",
    "jp_dict[\"chinese\"][\"Kanji number\"] = jp_dict[\"chinese\"].index + 1\n",
    "# display(jp_dict[\"chinese\"])"
   ]
  },
  {
   "cell_type": "markdown",
   "id": "7515ed11-570e-4432-829d-6fdb231ce6af",
   "metadata": {},
   "source": [
    "### Run this to play game:"
   ]
  },
  {
   "cell_type": "code",
   "execution_count": 2,
   "id": "ddbe8e85-f0ea-4ae0-aa0e-2ee2b75325d9",
   "metadata": {
    "tags": []
   },
   "outputs": [
    {
     "name": "stdout",
     "output_type": "stream",
     "text": [
      "***********************************\n",
      "*                                 *\n",
      "*  Welcome to the Language Quiz!  *\n",
      "*                                 *\n",
      "***********************************\n"
     ]
    },
    {
     "name": "stdin",
     "output_type": "stream",
     "text": [
      "Pick game, kanji, phrases or chinese: kanji\n"
     ]
    },
    {
     "name": "stdout",
     "output_type": "stream",
     "text": [
      "You have chosen 'Guess the Japanese kanji'!\n"
     ]
    },
    {
     "name": "stdin",
     "output_type": "stream",
     "text": [
      "Guess the romanji version? (y/n) \n",
      "How many questions do you want? (1-100)  3\n"
     ]
    },
    {
     "name": "stdout",
     "output_type": "stream",
     "text": [
      "Guess the English translation for the following words:\n",
      "\n",
      "Question 1:\n",
      "What is the English translation of 千?\n"
     ]
    },
    {
     "name": "stdin",
     "output_type": "stream",
     "text": [
      "千: your answer jgfjdj\n"
     ]
    },
    {
     "name": "stdout",
     "output_type": "stream",
     "text": [
      "Sorry, 'jgfjdj' is incorrect.\n",
      "Hint 1: the hiragana for this is せん\n"
     ]
    },
    {
     "name": "stdin",
     "output_type": "stream",
     "text": [
      "せん: your answer fjyf\n"
     ]
    },
    {
     "name": "stdout",
     "output_type": "stream",
     "text": [
      "Sorry, 'fjyf' is incorrect.\n",
      "Hint 2: the romanji for this word is sen\n"
     ]
    },
    {
     "name": "stdin",
     "output_type": "stream",
     "text": [
      "sen: your answer thousand\n"
     ]
    },
    {
     "name": "stdout",
     "output_type": "stream",
     "text": [
      "Thousand is correct! Great job! Pronounced せん (sen)\n",
      "\n",
      "Question 2:\n",
      "What is the English translation of 来?\n"
     ]
    },
    {
     "name": "stdin",
     "output_type": "stream",
     "text": [
      "来: your answer come\n"
     ]
    },
    {
     "name": "stdout",
     "output_type": "stream",
     "text": [
      "Come is correct! Pronounced く (ku). You got it right with no hints so the question has been removed from quiz.\n",
      "\n",
      "Question 3:\n",
      "What is the English translation of 日?\n"
     ]
    },
    {
     "name": "stdin",
     "output_type": "stream",
     "text": [
      "日: your answer day\n"
     ]
    },
    {
     "name": "stdout",
     "output_type": "stream",
     "text": [
      "Day or Sun is correct! Pronounced ひ (hi). You got it right with no hints so the question has been removed from quiz.\n",
      "\n",
      "Quiz completed!\n",
      "You got 3 out of 3 questions correct.\n"
     ]
    }
   ],
   "source": [
    "# Run me !\n",
    "print(\"***********************************\")\n",
    "print(\"*                                 *\")\n",
    "print(\"*  Welcome to the Language Quiz!  *\")\n",
    "print(\"*                                 *\")\n",
    "print(\"***********************************\")\n",
    "game = input(\"Pick game, kanji, phrases or chinese:\")\n",
    "if game == \"phrases\":\n",
    "    print(\"You have chosen 'Guess the Japanese phrases'!\")\n",
    "    guess = input(\"Guess the romanji version? (y/n)\")\n",
    "elif game == \"chinese\":\n",
    "    print(\"You have chosen 'Guess the Chinese words'!\")\n",
    "else:\n",
    "    print(\"You have chosen 'Guess the Japanese kanji'!\")\n",
    "    guess = input(\"Guess the romanji version? (y/n)\")\n",
    "    \n",
    "\n",
    "\n",
    "def japanese_quiz(play = game, type = guess):\n",
    "\n",
    "    # Shuffle the DataFrame to randomize the order of questions\n",
    "    df_not_easy = jp_dict[game][jp_dict[game][\"Difficulty\"] != \"Easy\"]\n",
    "    shuffled_df = df_not_easy.sample(frac=1).reset_index(drop=True)\n",
    "    quiz_length = int(input(\"How many questions do you want? (1-\" + str(len(df_not_easy)) + \") \"))\n",
    "    shuffled_df_head = shuffled_df.head(quiz_length)\n",
    "\n",
    "    # Initialize a counter to keep track of the score\n",
    "    score = 0\n",
    "    \n",
    "    # Intro\n",
    "    print(\"Guess the English translation for the following words:\")\n",
    "\n",
    "    for index, row in shuffled_df_head.iterrows():\n",
    "        kanji = row[\"Kanji\"]\n",
    "        df_row_indicator = row[\"Kanji number\"]\n",
    "\n",
    "        # Set up rules for romanji game\n",
    "        if guess == \"y\":\n",
    "            \n",
    "            hint2 = row[\"Hiragana\"]\n",
    "            correct_answer = row[\"Romanji\"]\n",
    "            correct_answer2 = \"No second correct answer\"\n",
    "            reveal_answer = correct_answer\n",
    "            if pd.isna(row[\"English2\"]):\n",
    "                eng2 = \"\"\n",
    "            else:\n",
    "                eng2 = \" or \" + row[\"English2\"]\n",
    "            hint1 = row[\"English1\"] + eng2\n",
    "\n",
    "        # Set up rules for English game\n",
    "        else:\n",
    "            hint1 = row[\"Hiragana\"]\n",
    "            hint2 = row[\"Romanji\"]\n",
    "            correct_answer = row[\"English1\"]\n",
    "            if pd.isna(row[\"English2\"]):\n",
    "                correct_answer2 = \"No second correct answer\"\n",
    "                reveal_answer = correct_answer\n",
    "            else:\n",
    "                correct_answer2 = row[\"English2\"]\n",
    "                reveal_answer = correct_answer + \" or \" + correct_answer2\n",
    "        \n",
    "        #--------------#\n",
    "        # Ask question #\n",
    "        #--------------#\n",
    "        print(f\"\\nQuestion {index + 1}:\")\n",
    "        print(f\"What is the English translation of {kanji}?\")\n",
    "        user_answer = input(kanji + \": your answer\")\n",
    "\n",
    "        # If user answers correct, add to score and go to end of question\n",
    "        if user_answer.lower() == correct_answer.lower() or user_answer.lower() == correct_answer2.lower():\n",
    "            print(reveal_answer + \" is correct! Pronounced \" + hint1 + \" (\" + hint2 + \"). You got it right with no hints so the question has been removed from quiz.\")\n",
    "            score += 1\n",
    "            jp_dict[game].at[df_row_indicator-1, 'Difficulty'] = \"Easy\"\n",
    "        else:\n",
    "            \n",
    "            #-------------#\n",
    "            # Give a hint #\n",
    "            #-------------#\n",
    "            print(f\"Sorry, '{user_answer}' is incorrect.\")\n",
    "            if game == \"chinese\":\n",
    "                print(\"Hint: \" + hint2)\n",
    "                user_answer2 = input(hint2 +\": your answer\")\n",
    "            else:\n",
    "                print(\"Hint 1: the hiragana for this is \" + hint1)\n",
    "                user_answer2 = input(hint1 +\": your answer\")\n",
    "\n",
    "            # If user answers correct, add to score and go to end of question\n",
    "            if user_answer2.lower() == correct_answer.lower() or user_answer2.lower() == correct_answer2.lower():\n",
    "                print(reveal_answer + \" is correct! Great job! Pronounced \" + hint1 + \" (\" + hint2 + \")\")\n",
    "                score += 1\n",
    "                jp_dict[game].at[df_row_indicator-1, 'Difficulty'] = \"Medium\"\n",
    "            else:\n",
    "                \n",
    "                #-------------------#\n",
    "                # Give another hint #\n",
    "                #-------------------#\n",
    "                print(f\"Sorry, '{user_answer2}' is incorrect.\")\n",
    "                if game == \"chinese\":\n",
    "                    print(\"Guess again\")\n",
    "                    user_answer3 = input(\"Your answer: \")\n",
    "                else:\n",
    "                    print(\"Hint 2: the romanji for this word is \" + hint2)\n",
    "                    user_answer3 = input(hint2 + \": your answer\")\n",
    "\n",
    "                # If user answers correct, add to score and go to end of question\n",
    "                if user_answer3.lower() == correct_answer.lower() or user_answer3.lower() == correct_answer2.lower():\n",
    "                    print(reveal_answer + \" is correct! Great job! Pronounced \" + hint1 + \" (\" + hint2 + \")\")\n",
    "                    score += 1\n",
    "                    jp_dict[game].at[df_row_indicator-1, 'Difficulty'] = \"Hard\"\n",
    "                else:\n",
    "                    # Give answer\n",
    "                    print(f\"Sorry, the correct translation is '{reveal_answer}'.\")\n",
    "                    jp_dict[game].at[df_row_indicator-1, 'Difficulty'] = \"Very Hard\"\n",
    "                    \n",
    "                    #-----------------#\n",
    "                    # End of Question #\n",
    "                    #-----------------#\n",
    "                    # Ask the user if they want to continue or quit the quiz\n",
    "                    if index + 1 == quiz_length:\n",
    "                        break\n",
    "                    else:\n",
    "                        continue_or_quit = input(\"Do you want to continue? (y/n) \")\n",
    "                        if continue_or_quit.lower() != \"y\":\n",
    "                            break\n",
    "                            \n",
    "        #-----------------#\n",
    "        #   End of Quiz   #\n",
    "        #-----------------#\n",
    "        # End the quiz\n",
    "        if index + 1 == quiz_length:\n",
    "            break\n",
    " \n",
    "    print(\"\\nQuiz completed!\")\n",
    "    if len(shuffled_df_head) == 0:\n",
    "        print(\" \")\n",
    "    else:\n",
    "        print(f\"You got {score} out of {len(shuffled_df_head)} questions correct.\")\n",
    "\n",
    "if __name__ == \"__main__\":\n",
    "    japanese_quiz()\n",
    "\n",
    "jp_dict[game] = jp_dict[game] [[\"Kanji\", \"Hiragana\", \"Romanji\", \"English1\", \"English2\", \"Difficulty\", \"Kanji number\"]]\n",
    "jp_dict[game].to_csv(name + \"'s progress.csv\")\n",
    "\n",
    "if len(jp_dict[game][jp_dict[game][\"Difficulty\"] != \"Easy\"]) == 0:\n",
    "    print(border1)\n",
    "    print(border2)\n",
    "    print(winner)\n",
    "    print(border2)\n",
    "    print(border1)"
   ]
  },
  {
   "cell_type": "markdown",
   "id": "ba00621c-e8eb-41bd-8edf-0c92dd75de55",
   "metadata": {},
   "source": [
    "### Run this to see your progress:"
   ]
  },
  {
   "cell_type": "code",
   "execution_count": 3,
   "id": "14c690f4-0726-4827-9b42-6c3855df5033",
   "metadata": {
    "scrolled": true,
    "tags": []
   },
   "outputs": [
    {
     "name": "stdout",
     "output_type": "stream",
     "text": [
      "3 words tested out of 100\n",
      "2 words now easy\n",
      "0 words now medium\n",
      "1 words now hard\n",
      "0 words now very hard\n"
     ]
    }
   ],
   "source": [
    "# Run me !\n",
    "df_known = jp_dict[game][jp_dict[game][\"Difficulty\"] != \"unknown\"]\n",
    "print(str(len(df_known)) + \" words tested out of \" + str(len(jp_dict[game])))\n",
    "print(str(len(jp_dict[game][jp_dict[game][\"Difficulty\"] == \"Easy\"])) + \" words now easy\")\n",
    "print(str(len(jp_dict[game][jp_dict[game][\"Difficulty\"] == \"Medium\"])) + \" words now medium\")\n",
    "print(str(len(jp_dict[game][jp_dict[game][\"Difficulty\"] == \"Hard\"])) + \" words now hard\")\n",
    "print(str(len(jp_dict[game][jp_dict[game][\"Difficulty\"] == \"Very Hard\"])) + \" words now very hard\")\n",
    "# display(df_known)"
   ]
  },
  {
   "cell_type": "code",
   "execution_count": null,
   "id": "ec3472a3-b82f-44d3-ab74-23c4923b69ba",
   "metadata": {},
   "outputs": [],
   "source": []
  }
 ],
 "metadata": {
  "kernelspec": {
   "display_name": "Python 3 (ipykernel)",
   "language": "python",
   "name": "python3"
  },
  "language_info": {
   "codemirror_mode": {
    "name": "ipython",
    "version": 3
   },
   "file_extension": ".py",
   "mimetype": "text/x-python",
   "name": "python",
   "nbconvert_exporter": "python",
   "pygments_lexer": "ipython3",
   "version": "3.11.4"
  }
 },
 "nbformat": 4,
 "nbformat_minor": 5
}
