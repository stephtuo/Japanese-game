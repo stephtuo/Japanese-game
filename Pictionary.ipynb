{
 "cells": [
  {
   "cell_type": "markdown",
   "id": "881bafa0",
   "metadata": {},
   "source": [
    "# Steph's Game"
   ]
  },
  {
   "cell_type": "markdown",
   "id": "84c07b97-da86-45c1-a1d4-87ce4d6c74ac",
   "metadata": {},
   "source": [
    "### Run this to begin a new game or load your progress:"
   ]
  },
  {
   "cell_type": "code",
   "execution_count": 37,
   "id": "520c0146-6faf-4d0a-a5ee-51df3430e95e",
   "metadata": {
    "tags": []
   },
   "outputs": [
    {
     "data": {
      "text/plain": [
       "15"
      ]
     },
     "execution_count": 37,
     "metadata": {},
     "output_type": "execute_result"
    }
   ],
   "source": [
    "df = pd.read_csv(\"elvie words.csv\")\n",
    "df[\"word\"].nunique()"
   ]
  },
  {
   "cell_type": "markdown",
   "id": "7515ed11-570e-4432-829d-6fdb231ce6af",
   "metadata": {},
   "source": [
    "### Run this to play game:"
   ]
  },
  {
   "cell_type": "code",
   "execution_count": 40,
   "id": "ddbe8e85-f0ea-4ae0-aa0e-2ee2b75325d9",
   "metadata": {
    "tags": []
   },
   "outputs": [
    {
     "name": "stdout",
     "output_type": "stream",
     "text": [
      "***********************************\n",
      "*                                 *\n",
      "*      Welcome to the Game!       *\n",
      "*                                 *\n",
      "***********************************\n",
      "\n",
      "Word 1:\n",
      "Breast pump\n"
     ]
    },
    {
     "name": "stdin",
     "output_type": "stream",
     "text": [
      "Press enter for next word. \n"
     ]
    },
    {
     "name": "stdout",
     "output_type": "stream",
     "text": [
      "\n",
      "Word 2:\n",
      "Smart device\n"
     ]
    },
    {
     "name": "stdin",
     "output_type": "stream",
     "text": [
      "Press enter for next word. \n"
     ]
    },
    {
     "name": "stdout",
     "output_type": "stream",
     "text": [
      "\n",
      "Word 3:\n",
      "Wearable\n"
     ]
    },
    {
     "name": "stdin",
     "output_type": "stream",
     "text": [
      "Press enter for next word. \n"
     ]
    },
    {
     "name": "stdout",
     "output_type": "stream",
     "text": [
      "\n",
      "Word 4:\n",
      "Exercise\n"
     ]
    },
    {
     "name": "stdin",
     "output_type": "stream",
     "text": [
      "Press enter for next word. exit\n"
     ]
    },
    {
     "name": "stdout",
     "output_type": "stream",
     "text": [
      "*********************************************************************************************************************\n",
      "*                                                                                                                   *\n",
      "*                                 ※\\(^o^)/※  woooooooooooooo!! Game complete!!                                    *\n",
      "*                                                                                                                   *\n",
      "*********************************************************************************************************************\n"
     ]
    }
   ],
   "source": [
    "# Run me !\n",
    "print(\"***********************************\")\n",
    "print(\"*                                 *\")\n",
    "print(\"*      Welcome to the Game!       *\")\n",
    "print(\"*                                 *\")\n",
    "print(\"***********************************\")\n",
    "\n",
    "\n",
    "def pict():\n",
    "\n",
    "    # Shuffle the DataFrame to randomize the order of questions\n",
    "    shuffled_df = df.sample(frac=1).reset_index(drop=True)\n",
    "    shuffled_df_head = shuffled_df.head(1)\n",
    "    \n",
    "\n",
    "    for index, row in shuffled_df.iterrows():\n",
    "        word = row[\"word\"]\n",
    "        #--------------#\n",
    "        # Ask question #\n",
    "        #--------------#\n",
    "        print(f\"\\nWord {index + 1}:\")\n",
    "        print(word)\n",
    "        user_answer = input(\"Press enter for next word.\")\n",
    "        if user_answer == \"exit\":\n",
    "            break\n",
    "\n",
    "        # If user answers correct, add to score and go to end of question\n",
    "\n",
    "        df.at[index, 'Status'] = \"Done\"\n",
    "            \n",
    "        #-----------------#\n",
    "        #   End of Quiz   #\n",
    "        #-----------------#\n",
    "        # End the quiz\n",
    "        if index + 1 == 15:\n",
    "            break\n",
    "            print(\"\\nGame completed!\")\n",
    "\n",
    "\n",
    "if __name__ == \"__main__\":\n",
    "    pict()\n",
    "\n",
    "df = df[[\"word\", \"Status\"]]\n",
    "df.to_csv(\"Game progress.csv\")\n",
    "\n",
    "if len(df[df[\"Status\"] != \"Done\"]) == 0:\n",
    "    print(border1)\n",
    "    print(border2)\n",
    "    print(winner)\n",
    "    print(border2)\n",
    "    print(border1)"
   ]
  }
 ],
 "metadata": {
  "kernelspec": {
   "display_name": "Python 3 (ipykernel)",
   "language": "python",
   "name": "python3"
  },
  "language_info": {
   "codemirror_mode": {
    "name": "ipython",
    "version": 3
   },
   "file_extension": ".py",
   "mimetype": "text/x-python",
   "name": "python",
   "nbconvert_exporter": "python",
   "pygments_lexer": "ipython3",
   "version": "3.11.4"
  }
 },
 "nbformat": 4,
 "nbformat_minor": 5
}
