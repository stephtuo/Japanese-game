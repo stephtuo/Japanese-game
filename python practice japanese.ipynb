{
 "cells": [
  {
   "cell_type": "markdown",
   "id": "881bafa0",
   "metadata": {},
   "source": [
    "# Steph's Japanese Quiz\n",
    "###### Contains 100 JLPT n5 Kanji"
   ]
  },
  {
   "cell_type": "markdown",
   "id": "84c07b97-da86-45c1-a1d4-87ce4d6c74ac",
   "metadata": {},
   "source": [
    "### Run this to begin a new game or load your progress:"
   ]
  },
  {
   "cell_type": "code",
   "execution_count": 89,
   "id": "e9a12ece-dccf-4795-8f7f-abf7b4e4bc7d",
   "metadata": {
    "collapsed": true,
    "jupyter": {
     "outputs_hidden": true,
     "source_hidden": true
    }
   },
   "outputs": [
    {
     "name": "stdin",
     "output_type": "stream",
     "text": [
      "Enter name(case sensitive):  Steph\n"
     ]
    },
    {
     "name": "stdout",
     "output_type": "stream",
     "text": [
      "Steph: player found\n"
     ]
    }
   ],
   "source": [
    "import pandas as pd\n",
    "import os.path\n",
    "name = input(\"Enter name(case sensitive): \")\n",
    "\n",
    "path = name + \"'s progress.csv\"\n",
    "if os.path.isfile(path) == True:\n",
    "    df = pd.read_csv(name + \"'s progress.csv\")\n",
    "    print(name + \": player found\")\n",
    "else:\n",
    "    print(name + \": new player\")\n",
    "    # List of Japanese words along with their English translations and Romanized versions (Romanji)\n",
    "    japanese_words = [\n",
    "    (\"一\", \"いち\", \"ichi\", \"One\"),\n",
    "    (\"二\", \"に\", \"ni\", \"Two\"),\n",
    "    (\"三\", \"さん\", \"san\", \"Three\"),\n",
    "    (\"四\", \"し\", \"shi\", \"Four\"),\n",
    "    (\"五\", \"ご\", \"go\", \"Five\"),\n",
    "    (\"六\", \"ろく\", \"roku\", \"Six\"),\n",
    "    (\"七\", \"しち\", \"shichi\", \"Seven\"),\n",
    "    (\"八\", \"はち\", \"hachi\", \"Eight\"),\n",
    "    (\"九\", \"きゅう\", \"kyuu\", \"Nine\"),\n",
    "    (\"十\", \"じゅう\", \"juu\", \"Ten\"),\n",
    "    (\"百\", \"ひゃく\", \"hyaku\", \"Hundred\"),\n",
    "    (\"千\", \"せん\", \"sen\", \"Thousand\"),\n",
    "    (\"万\", \"まん\", \"man\", \"Ten thousand\"),\n",
    "    (\"父\", \"ちち\", \"chichi\", \"Father\"),\n",
    "    (\"友\", \"とも\", \"tomo\", \"Friend\"),\n",
    "    (\"母\", \"はは\", \"haha\", \"Mother\"),\n",
    "    (\"女\", \"おんな\", \"onna\", \"Woman\", \"Female\"),\n",
    "    (\"男\", \"おとこ\", \"otoko\", \"Man\", \"Male\"),\n",
    "    (\"人\", \"ひと\", \"hito\", \"Person\"),\n",
    "    (\"子\", \"こ\", \"ko\", \"Child\"),\n",
    "    (\"日\", \"ひ\", \"hi\", \"Day\", \"Sun\"),\n",
    "    (\"月\", \"つき\", \"tsuki\", \"Month\", \"Moon\"),\n",
    "    (\"火\", \"ひ\", \"hi\", \"Fire\"),\n",
    "    (\"水\", \"みず\", \"mizu\", \"Water\"),\n",
    "    (\"木\", \"き\", \"ki\", \"Tree\", \"Wood\"),\n",
    "    (\"金\", \"きん\", \"kin\", \"Gold\", \"Metal\"),\n",
    "    (\"土\", \"つち\", \"tsuchi\", \"Soil\", \"Earth\"),\n",
    "    (\"語\", \"ご\", \"go\", \"Language\", \"Word\"),\n",
    "    (\"年\", \"ねん\", \"nen\", \"Year\"),\n",
    "    (\"午\", \"うま\", \"uma\", \"Noon\", \"Horse\"),\n",
    "    (\"前\", \"まえ\", \"mae\", \"Front\", \"Before\"),\n",
    "    (\"後\", \"あと\", \"ato\", \"After\", \"Behind\"),\n",
    "    (\"時\", \"じ\", \"ji\", \"Time\", \"Hour\"),\n",
    "    (\"間\", \"あいだ\", \"aida\", \"Interval\", \"Space\"),\n",
    "    (\"毎\", \"まい\", \"mai\", \"Every\"),\n",
    "    (\"何\", \"なに\", \"nani\", \"What\"),\n",
    "    (\"上\", \"うえ\", \"ue\", \"Above\", \"On\"),\n",
    "    (\"下\", \"した\", \"shita\", \"Below\", \"Under\"),\n",
    "    (\"左\", \"ひだり\", \"hidari\", \"Left\"),\n",
    "    (\"右\", \"みぎ\", \"migi\", \"Right\"),\n",
    "    (\"西\", \"にし\", \"nishi\", \"West\"),\n",
    "    (\"南\", \"みなみ\", \"minami\", \"South\"),\n",
    "    (\"北\", \"きた\", \"kita\", \"North\"),\n",
    "    (\"外\", \"そと\", \"soto\", \"Outside\", \"Foreign\"),\n",
    "    (\"名\", \"な\", \"na\", \"Name\"),\n",
    "    (\"高\", \"たか\", \"taka\", \"Tall\", \"High\"),\n",
    "    (\"小\", \"ちい\", \"chii\", \"Small\", \"Little\"),\n",
    "    (\"中\", \"なか\", \"naka\", \"Middle\", \"Inside\"),\n",
    "    (\"大\", \"おお\", \"oo\", \"Big\", \"Large\"),\n",
    "    (\"長\", \"なが\", \"naga\", \"Long\"),\n",
    "    (\"半\", \"はん\", \"han\", \"Half\"),\n",
    "    (\"分\", \"ふん\", \"fun\", \"Minute\",\"Part\"),\n",
    "    (\"学\", \"がく\", \"gaku\", \"Study\", \"Learning\"),\n",
    "    (\"校\", \"こう\", \"kou\", \"School\"),\n",
    "    (\"生\", \"せい\", \"sei\", \"Life\", \"Raw\"),\n",
    "    (\"山\", \"やま\", \"yama\", \"Mountain\"),\n",
    "    (\"川\", \"かわ\", \"kawa\", \"River\"),\n",
    "    (\"白\", \"しろ\", \"shiro\", \"White\"),\n",
    "    (\"天\", \"てん\", \"ten\", \"Heaven\", \"Sky\"),\n",
    "    (\"雨\", \"あめ\", \"ame\", \"Rain\"),\n",
    "    (\"電\", \"でん\", \"den\", \"Electricity\"),\n",
    "    (\"気\", \"き\", \"ki\", \"Spirit\", \"Air\"),\n",
    "    (\"車\", \"くるま\", \"kuruma\", \"Car\", \"Vehicle\"),\n",
    "    (\"国\", \"くに\", \"kuni\", \"Country\"),\n",
    "    (\"円\", \"えん\", \"en\", \"Yen\"),\n",
    "    (\"話\", \"はなし\", \"hanashi\", \"Talk\", \"Story\"),\n",
    "    (\"聞\", \"き\", \"ki\", \"Listen\", \"Ask\"),\n",
    "    (\"食\", \"たべ\", \"tabe\", \"Eat\", \"Food\"),\n",
    "    (\"読\", \"よ\", \"yo\", \"Read\"),\n",
    "    (\"来\", \"く\", \"ku\", \"Come\"),\n",
    "    (\"書\", \"か\", \"ka\", \"Write\", \"Book\"),\n",
    "    (\"見\", \"み\", \"mi\", \"See\", \"Look\"),\n",
    "    (\"行\", \"い\", \"i\", \"Go\"),\n",
    "    (\"出\", \"で\", \"de\", \"Exit\", \"Leave\"),\n",
    "    (\"入\", \"い\", \"i\", \"Enter\", \"Insert\"),\n",
    "    (\"会\", \"か\", \"ka\", \"Meet\", \"Party\"),\n",
    "    (\"青\", \"あお\", \"ao\", \"Blue\", \"Green\"),\n",
    "    (\"赤\", \"あか\", \"aka\", \"Red\"),\n",
    "    (\"明\", \"あか\", \"aka\", \"Bright\", \"Clear\"),\n",
    "    (\"秋\", \"あき\", \"aki\", \"Autumn\", \"Fall\"),\n",
    "    (\"空\", \"そら\", \"sora\", \"Sky\"),\n",
    "    (\"開\", \"ひら\", \"hira\", \"Open\"),\n",
    "    (\"悪\", \"わる\", \"waru\", \"Bad\", \"Evil\"),\n",
    "    (\"朝\", \"あさ\", \"asa\", \"Morning\"),\n",
    "    (\"字\", \"じ\", \"ji\", \"Character\", \"Letter\"),\n",
    "    (\"足\", \"あし\", \"ashi\", \"Foot\", \"Leg\"),\n",
    "    (\"味\", \"あじ\", \"aji\", \"Taste\", \"Flavor\"),\n",
    "    (\"新\", \"あたら\", \"atarashi\", \"New\"),\n",
    "    (\"兄\", \"あに\", \"ani\", \"Older brother\",\"Big brother\"),\n",
    "    (\"姉\", \"あね\", \"ane\", \"Older sister\",\"Big sister\"),\n",
    "    (\"歩\", \"ある\", \"aru\", \"Walk\"),\n",
    "    (\"有\", \"ある\", \"aru\", \"Exist\", \"Have\"),\n",
    "    (\"安\", \"やす\", \"yasu\", \"Peace\", \"Cheap\"),\n",
    "    (\"医\", \"い\", \"i\", \"Doctor\"),\n",
    "    (\"集\", \"あつ\", \"atsu\", \"Gather\", \"Collect\"),\n",
    "    (\"本\", \"ほん\", \"hon\", \"Book\"),\n",
    "    (\"休\", \"やす\", \"yasu\", \"Rest\", \"Holiday\"),\n",
    "    (\"先\", \"さき\", \"saki\", \"Previous\", \"Ahead\"),\n",
    "    (\"今\", \"いま\", \"ima\", \"Now\"),\n",
    "    (\"東\", \"ひがし\", \"higashi\", \"East\")\n",
    "    ]\n",
    "    # print(len(japanese_words))\n",
    "    \n",
    "    # Create the DataFrame with appropriate column names\n",
    "    df = pd.DataFrame(japanese_words, columns=[\"Kanji\", \"Hiragana\", \"Romanji\", \"English1\",\"English2\"])\n",
    "    df[\"Difficulty\"] = \"unknown\"\n",
    "    df[\"Kanji number\"] = df.index + 1"
   ]
  },
  {
   "cell_type": "markdown",
   "id": "7515ed11-570e-4432-829d-6fdb231ce6af",
   "metadata": {},
   "source": [
    "### Run this to play game:"
   ]
  },
  {
   "cell_type": "code",
   "execution_count": 90,
   "id": "f7b7d0dd-6cee-433d-b4bc-23063a6d99c6",
   "metadata": {
    "collapsed": true,
    "jupyter": {
     "outputs_hidden": true,
     "source_hidden": true
    },
    "scrolled": true
   },
   "outputs": [
    {
     "name": "stdin",
     "output_type": "stream",
     "text": [
      "How many questions do you want? (1-100)  10\n"
     ]
    },
    {
     "name": "stdout",
     "output_type": "stream",
     "text": [
      "Welcome to the Japanese Quiz!\n",
      "Guess the English translation for the following Japanese words:\n",
      "\n",
      "Question 1:\n",
      "What is the English translation of '北'?\n"
     ]
    },
    {
     "name": "stdin",
     "output_type": "stream",
     "text": [
      "北: your answer north\n"
     ]
    },
    {
     "name": "stdout",
     "output_type": "stream",
     "text": [
      "North, pronounced きた is correct! Great job! Question removed from quiz.\n"
     ]
    },
    {
     "name": "stdin",
     "output_type": "stream",
     "text": [
      "Do you want to continue? (y/n)  y\n"
     ]
    },
    {
     "name": "stdout",
     "output_type": "stream",
     "text": [
      "\n",
      "Question 2:\n",
      "What is the English translation of '名'?\n"
     ]
    },
    {
     "name": "stdin",
     "output_type": "stream",
     "text": [
      "名: your answer name\n"
     ]
    },
    {
     "name": "stdout",
     "output_type": "stream",
     "text": [
      "Name, pronounced な is correct! Great job! Question removed from quiz.\n"
     ]
    },
    {
     "name": "stdin",
     "output_type": "stream",
     "text": [
      "Do you want to continue? (y/n)  y\n"
     ]
    },
    {
     "name": "stdout",
     "output_type": "stream",
     "text": [
      "\n",
      "Question 3:\n",
      "What is the English translation of '赤'?\n"
     ]
    },
    {
     "name": "stdin",
     "output_type": "stream",
     "text": [
      "赤: your answer high\n"
     ]
    },
    {
     "name": "stdout",
     "output_type": "stream",
     "text": [
      "Sorry, 'high' is incorrect.\n",
      "Hint 1: the hiragana for this word is あか\n"
     ]
    },
    {
     "name": "stdin",
     "output_type": "stream",
     "text": [
      "あか: your answer red\n"
     ]
    },
    {
     "name": "stdout",
     "output_type": "stream",
     "text": [
      "Red, pronounced あか is correct! Great job!\n"
     ]
    },
    {
     "name": "stdin",
     "output_type": "stream",
     "text": [
      "Do you want to continue? (y/n)  y\n"
     ]
    },
    {
     "name": "stdout",
     "output_type": "stream",
     "text": [
      "\n",
      "Question 4:\n",
      "What is the English translation of '万'?\n"
     ]
    },
    {
     "name": "stdin",
     "output_type": "stream",
     "text": [
      "万: your answer ten thousand\n"
     ]
    },
    {
     "name": "stdout",
     "output_type": "stream",
     "text": [
      "Ten thousand, pronounced まん is correct! Great job! Question removed from quiz.\n"
     ]
    },
    {
     "name": "stdin",
     "output_type": "stream",
     "text": [
      "Do you want to continue? (y/n)  y\n"
     ]
    },
    {
     "name": "stdout",
     "output_type": "stream",
     "text": [
      "\n",
      "Question 5:\n",
      "What is the English translation of '兄'?\n"
     ]
    },
    {
     "name": "stdin",
     "output_type": "stream",
     "text": [
      "兄: your answer white\n"
     ]
    },
    {
     "name": "stdout",
     "output_type": "stream",
     "text": [
      "Sorry, 'white' is incorrect.\n",
      "Hint 1: the hiragana for this word is あに\n"
     ]
    },
    {
     "name": "stdin",
     "output_type": "stream",
     "text": [
      "あに: your answer hundred\n"
     ]
    },
    {
     "name": "stdout",
     "output_type": "stream",
     "text": [
      "Sorry, 'hundred' is incorrect.\n",
      "Hint 2: the romanji for this word is ani\n"
     ]
    },
    {
     "name": "stdin",
     "output_type": "stream",
     "text": [
      "ani: your answer Elder sister\n"
     ]
    },
    {
     "name": "stdout",
     "output_type": "stream",
     "text": [
      "Sorry, the correct translation is 'Elder brother, pronounced あに'.\n"
     ]
    },
    {
     "name": "stdin",
     "output_type": "stream",
     "text": [
      "Do you want to continue? (y/n)  y\n"
     ]
    },
    {
     "name": "stdout",
     "output_type": "stream",
     "text": [
      "\n",
      "Question 6:\n",
      "What is the English translation of '見'?\n"
     ]
    },
    {
     "name": "stdin",
     "output_type": "stream",
     "text": [
      "見: your answer yen\n"
     ]
    },
    {
     "name": "stdout",
     "output_type": "stream",
     "text": [
      "Sorry, 'yen' is incorrect.\n",
      "Hint 1: the hiragana for this word is み\n"
     ]
    },
    {
     "name": "stdin",
     "output_type": "stream",
     "text": [
      "み: your answer see\n"
     ]
    },
    {
     "name": "stdout",
     "output_type": "stream",
     "text": [
      "See or Look, pronounced み is correct! Great job!\n"
     ]
    },
    {
     "name": "stdin",
     "output_type": "stream",
     "text": [
      "Do you want to continue? (y/n)  y\n"
     ]
    },
    {
     "name": "stdout",
     "output_type": "stream",
     "text": [
      "\n",
      "Question 7:\n",
      "What is the English translation of '集'?\n"
     ]
    },
    {
     "name": "stdin",
     "output_type": "stream",
     "text": [
      "集: your answer write\n"
     ]
    },
    {
     "name": "stdout",
     "output_type": "stream",
     "text": [
      "Sorry, 'write' is incorrect.\n",
      "Hint 1: the hiragana for this word is あつ\n"
     ]
    },
    {
     "name": "stdin",
     "output_type": "stream",
     "text": [
      "あつ: your answer foot\n"
     ]
    },
    {
     "name": "stdout",
     "output_type": "stream",
     "text": [
      "Sorry, 'foot' is incorrect.\n",
      "Hint 2: the romanji for this word is atsu\n"
     ]
    },
    {
     "name": "stdin",
     "output_type": "stream",
     "text": [
      "atsu: your answer heat\n"
     ]
    },
    {
     "name": "stdout",
     "output_type": "stream",
     "text": [
      "Sorry, the correct translation is 'Gather or Collect, pronounced あつ'.\n"
     ]
    },
    {
     "name": "stdin",
     "output_type": "stream",
     "text": [
      "Do you want to continue? (y/n)  y\n"
     ]
    },
    {
     "name": "stdout",
     "output_type": "stream",
     "text": [
      "\n",
      "Question 8:\n",
      "What is the English translation of '間'?\n"
     ]
    },
    {
     "name": "stdin",
     "output_type": "stream",
     "text": [
      "間: your answer space\n"
     ]
    },
    {
     "name": "stdout",
     "output_type": "stream",
     "text": [
      "Interval or Space, pronounced あいだ is correct! Great job! Question removed from quiz.\n"
     ]
    },
    {
     "name": "stdin",
     "output_type": "stream",
     "text": [
      "Do you want to continue? (y/n)  y\n"
     ]
    },
    {
     "name": "stdout",
     "output_type": "stream",
     "text": [
      "\n",
      "Question 9:\n",
      "What is the English translation of '悪'?\n"
     ]
    },
    {
     "name": "stdin",
     "output_type": "stream",
     "text": [
      "悪: your answer write\n"
     ]
    },
    {
     "name": "stdout",
     "output_type": "stream",
     "text": [
      "Sorry, 'write' is incorrect.\n",
      "Hint 1: the hiragana for this word is わる\n"
     ]
    },
    {
     "name": "stdin",
     "output_type": "stream",
     "text": [
      "わる: your answer waru\n"
     ]
    },
    {
     "name": "stdout",
     "output_type": "stream",
     "text": [
      "Sorry, 'waru' is incorrect.\n",
      "Hint 2: the romanji for this word is waru\n"
     ]
    },
    {
     "name": "stdin",
     "output_type": "stream",
     "text": [
      "waru: your answer \n"
     ]
    },
    {
     "name": "stdout",
     "output_type": "stream",
     "text": [
      "Sorry, the correct translation is 'Bad or Evil, pronounced わる'.\n"
     ]
    },
    {
     "name": "stdin",
     "output_type": "stream",
     "text": [
      "Do you want to continue? (y/n)  \n"
     ]
    },
    {
     "name": "stdout",
     "output_type": "stream",
     "text": [
      "\n",
      "Quiz completed!\n",
      "You got 6 out of 10 questions correct.\n"
     ]
    }
   ],
   "source": [
    "def japanese_quiz():\n",
    "    # Shuffle the DataFrame to randomize the order of questions\n",
    "    df_not_easy = df[df[\"Difficulty\"] != \"Easy\"]\n",
    "    shuffled_df = df_not_easy.sample(frac=1).reset_index(drop=True)\n",
    "    quiz_length = int(input(\"How many questions do you want? (1-\" + str(len(df)) + \") \"))\n",
    "    shuffled_df_head = shuffled_df.head(quiz_length)\n",
    "\n",
    "    # Initialize a counter to keep track of the score\n",
    "    score = 0\n",
    "    \n",
    "    # Intro\n",
    "    print(\"Welcome to the Japanese Quiz!\")\n",
    "    print(\"Guess the English translation for the following Japanese words:\")\n",
    "\n",
    "    for index, row in shuffled_df_head.iterrows():\n",
    "        kanji = row[\"Kanji\"]\n",
    "        hint1 = row[\"Hiragana\"]\n",
    "        hint2 = row[\"Romanji\"]\n",
    "        correct_answer = row[\"English1\"]\n",
    "        df_row_indicator = row[\"Kanji number\"]\n",
    "        if pd.isna(row[\"English2\"]):\n",
    "            correct_answer2 = \"No second correct answer\"\n",
    "            reveal_answer = correct_answer + \", pronounced \" + hint1\n",
    "        else:\n",
    "            correct_answer2 = row[\"English2\"]\n",
    "            reveal_answer = correct_answer + \" or \" + correct_answer2 + \", pronounced \" + hint1\n",
    "        \n",
    "        #--------------#\n",
    "        # Ask question #\n",
    "        #--------------#\n",
    "        print(f\"\\nQuestion {index + 1}:\")\n",
    "        print(f\"What is the English translation of '{kanji}'?\")\n",
    "        user_answer = input(kanji + \": your answer\")\n",
    "\n",
    "        # If user answers correct, add to score and go to end of question\n",
    "        if user_answer.lower() == correct_answer.lower() or user_answer.lower() == correct_answer2.lower():\n",
    "            print(reveal_answer + \" is correct! Great job! Question removed from quiz.\")\n",
    "            score += 1\n",
    "            df.at[df_row_indicator-1, 'Difficulty'] = \"Easy\"\n",
    "        else:\n",
    "            \n",
    "            #-------------#\n",
    "            # Give a hint #\n",
    "            #-------------#\n",
    "            print(f\"Sorry, '{user_answer}' is incorrect.\")\n",
    "            print(\"Hint 1: the hiragana for this word is \" + hint1)\n",
    "            user_answer2 = input(hint1 +\": your answer\")\n",
    "\n",
    "            # If user answers correct, add to score and go to end of question\n",
    "            if user_answer2.lower() == correct_answer.lower():\n",
    "                print(reveal_answer + \" is correct! Great job!\")\n",
    "                score += 1\n",
    "                df.at[df_row_indicator-1, 'Difficulty'] = \"Medium\"\n",
    "            else:\n",
    "                \n",
    "                #-------------------#\n",
    "                # Give another hint #\n",
    "                #-------------------#\n",
    "                print(f\"Sorry, '{user_answer2}' is incorrect.\")\n",
    "                print(\"Hint 2: the romanji for this word is \" + hint2)\n",
    "                user_answer3 = input(hint2 + \": your answer\")\n",
    "\n",
    "                # If user answers correct, add to score and go to end of question\n",
    "                if user_answer3.lower() == correct_answer.lower():\n",
    "                    print(reveal_answer + \" is correct! Great job!\")\n",
    "                    score += 1\n",
    "                    df.at[df_row_indicator-1, 'Difficulty'] = \"Hard\"\n",
    "                else:\n",
    "                    # Give answer\n",
    "                    print(f\"Sorry, the correct translation is '{reveal_answer}'.\")\n",
    "                    df.at[df_row_indicator-1, 'Difficulty'] = \"Very Hard\"\n",
    "                    \n",
    "        #-----------------#\n",
    "        # End of Question #\n",
    "        #-----------------#\n",
    "        # Ask the user if they want to continue or quit the quiz\n",
    "        if index + 1 == quiz_length:\n",
    "            break\n",
    "        else:\n",
    "            continue_or_quit = input(\"Do you want to continue? (y/n) \")\n",
    "    \n",
    "            if continue_or_quit.lower() != \"y\":\n",
    "                break\n",
    "\n",
    "    print(\"\\nQuiz completed!\")\n",
    "    print(f\"You got {score} out of {len(shuffled_df_head)} questions correct.\")\n",
    "\n",
    "if __name__ == \"__main__\":\n",
    "    japanese_quiz()\n",
    "\n",
    "df.to_csv(name + \"'s progress.csv\")"
   ]
  },
  {
   "cell_type": "markdown",
   "id": "ba00621c-e8eb-41bd-8edf-0c92dd75de55",
   "metadata": {},
   "source": [
    "### Run this to see your progress:"
   ]
  },
  {
   "cell_type": "code",
   "execution_count": 91,
   "id": "14c690f4-0726-4827-9b42-6c3855df5033",
   "metadata": {
    "collapsed": true,
    "jupyter": {
     "outputs_hidden": true,
     "source_hidden": true
    }
   },
   "outputs": [
    {
     "name": "stdout",
     "output_type": "stream",
     "text": [
      "50 words tested out of 100\n",
      "34 words now easy\n",
      "9 words now medium\n",
      "0 words now hard\n",
      "7 words now very hard\n"
     ]
    }
   ],
   "source": [
    "df_known = df[df[\"Difficulty\"] != \"unknown\"]\n",
    "print(str(len(df_known)) + \" words tested out of \" + str(len(df)))\n",
    "print(str(len(df[df[\"Difficulty\"] == \"Easy\"])) + \" words now easy\")\n",
    "print(str(len(df[df[\"Difficulty\"] == \"Medium\"])) + \" words now medium\")\n",
    "print(str(len(df[df[\"Difficulty\"] == \"Hard\"])) + \" words now hard\")\n",
    "print(str(len(df[df[\"Difficulty\"] == \"Very Hard\"])) + \" words now very hard\")\n",
    "# display(df_known)"
   ]
  }
 ],
 "metadata": {
  "kernelspec": {
   "display_name": "Python 3 (ipykernel)",
   "language": "python",
   "name": "python3"
  },
  "language_info": {
   "codemirror_mode": {
    "name": "ipython",
    "version": 3
   },
   "file_extension": ".py",
   "mimetype": "text/x-python",
   "name": "python",
   "nbconvert_exporter": "python",
   "pygments_lexer": "ipython3",
   "version": "3.11.4"
  }
 },
 "nbformat": 4,
 "nbformat_minor": 5
}
