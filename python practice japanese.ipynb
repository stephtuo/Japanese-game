{
 "cells": [
  {
   "cell_type": "markdown",
   "id": "881bafa0",
   "metadata": {},
   "source": [
    "# Steph's Japanese quiz python code"
   ]
  },
  {
   "cell_type": "code",
   "execution_count": 17,
   "id": "e9a12ece-dccf-4795-8f7f-abf7b4e4bc7d",
   "metadata": {},
   "outputs": [
    {
     "name": "stdout",
     "output_type": "stream",
     "text": [
      "100\n"
     ]
    }
   ],
   "source": [
    "import pandas as pd\n",
    "\n",
    "# List of Japanese words along with their English translations and Romanized versions (Romanji)\n",
    "japanese_words = [\n",
    "(\"一\", \"いち\", \"ichi\", \"One\"),\n",
    "(\"二\", \"に\", \"ni\", \"Two\"),\n",
    "(\"三\", \"さん\", \"san\", \"Three\"),\n",
    "(\"四\", \"し\", \"shi\", \"Four\"),\n",
    "(\"五\", \"ご\", \"go\", \"Five\"),\n",
    "(\"六\", \"ろく\", \"roku\", \"Six\"),\n",
    "(\"七\", \"しち\", \"shichi\", \"Seven\"),\n",
    "(\"八\", \"はち\", \"hachi\", \"Eight\"),\n",
    "(\"九\", \"きゅう\", \"kyuu\", \"Nine\"),\n",
    "(\"十\", \"じゅう\", \"juu\", \"Ten\"),\n",
    "(\"百\", \"ひゃく\", \"hyaku\", \"Hundred\"),\n",
    "(\"千\", \"せん\", \"sen\", \"Thousand\"),\n",
    "(\"万\", \"まん\", \"man\", \"Ten thousand\"),\n",
    "(\"父\", \"ちち\", \"chichi\", \"Father\"),\n",
    "(\"友\", \"とも\", \"tomo\", \"Friend\"),\n",
    "(\"母\", \"はは\", \"haha\", \"Mother\"),\n",
    "(\"女\", \"おんな\", \"onna\", \"Woman\", \"Female\"),\n",
    "(\"男\", \"おとこ\", \"otoko\", \"Man\", \"Male\"),\n",
    "(\"人\", \"ひと\", \"hito\", \"Person\"),\n",
    "(\"子\", \"こ\", \"ko\", \"Child\"),\n",
    "(\"日\", \"ひ\", \"hi\", \"Day\", \"Sun\"),\n",
    "(\"月\", \"つき\", \"tsuki\", \"Month\", \"Moon\"),\n",
    "(\"火\", \"ひ\", \"hi\", \"Fire\"),\n",
    "(\"水\", \"みず\", \"mizu\", \"Water\"),\n",
    "(\"木\", \"き\", \"ki\", \"Tree\", \"Wood\"),\n",
    "(\"金\", \"きん\", \"kin\", \"Gold\", \"Metal\"),\n",
    "(\"土\", \"つち\", \"tsuchi\", \"Soil\", \"Earth\"),\n",
    "(\"語\", \"ご\", \"go\", \"Language\", \"Word\"),\n",
    "(\"年\", \"ねん\", \"nen\", \"Year\"),\n",
    "(\"午\", \"うま\", \"uma\", \"Noon\", \"Horse\"),\n",
    "(\"前\", \"まえ\", \"mae\", \"Front\", \"Before\"),\n",
    "(\"後\", \"あと\", \"ato\", \"After\", \"Behind\"),\n",
    "(\"時\", \"じ\", \"ji\", \"Time\", \"Hour\"),\n",
    "(\"間\", \"あいだ\", \"aida\", \"Interval\", \"Space\"),\n",
    "(\"毎\", \"まい\", \"mai\", \"Every\"),\n",
    "(\"何\", \"なに\", \"nani\", \"What\"),\n",
    "(\"上\", \"うえ\", \"ue\", \"Above\", \"On\"),\n",
    "(\"下\", \"した\", \"shita\", \"Below\", \"Under\"),\n",
    "(\"左\", \"ひだり\", \"hidari\", \"Left\"),\n",
    "(\"右\", \"みぎ\", \"migi\", \"Right\"),\n",
    "(\"西\", \"にし\", \"nishi\", \"West\"),\n",
    "(\"南\", \"みなみ\", \"minami\", \"South\"),\n",
    "(\"北\", \"きた\", \"kita\", \"North\"),\n",
    "(\"外\", \"そと\", \"soto\", \"Outside\", \"Foreign\"),\n",
    "(\"名\", \"な\", \"na\", \"Name\"),\n",
    "(\"高\", \"たか\", \"taka\", \"Tall\", \"High\"),\n",
    "(\"小\", \"ちい\", \"chii\", \"Small\", \"Little\"),\n",
    "(\"中\", \"なか\", \"naka\", \"Middle\", \"Inside\"),\n",
    "(\"大\", \"おお\", \"oo\", \"Big\", \"Large\"),\n",
    "(\"長\", \"なが\", \"naga\", \"Long\"),\n",
    "(\"半\", \"はん\", \"han\", \"Half\"),\n",
    "(\"分\", \"ふん\", \"fun\", \"Minute\"),\n",
    "(\"学\", \"がく\", \"gaku\", \"Study\", \"Learning\"),\n",
    "(\"校\", \"こう\", \"kou\", \"School\"),\n",
    "(\"生\", \"せい\", \"sei\", \"Life\", \"Raw\"),\n",
    "(\"山\", \"やま\", \"yama\", \"Mountain\"),\n",
    "(\"川\", \"かわ\", \"kawa\", \"River\"),\n",
    "(\"白\", \"しろ\", \"shiro\", \"White\"),\n",
    "(\"天\", \"てん\", \"ten\", \"Heaven\", \"Sky\"),\n",
    "(\"雨\", \"あめ\", \"ame\", \"Rain\"),\n",
    "(\"電\", \"でん\", \"den\", \"Electricity\"),\n",
    "(\"気\", \"き\", \"ki\", \"Spirit\", \"Air\"),\n",
    "(\"車\", \"くるま\", \"kuruma\", \"Car\", \"Vehicle\"),\n",
    "(\"国\", \"くに\", \"kuni\", \"Country\"),\n",
    "(\"円\", \"えん\", \"en\", \"Yen\"),\n",
    "(\"話\", \"はなし\", \"hanashi\", \"Talk\", \"Story\"),\n",
    "(\"聞\", \"き\", \"ki\", \"Listen\", \"Ask\"),\n",
    "(\"食\", \"たべ\", \"tabe\", \"Eat\", \"Food\"),\n",
    "(\"読\", \"よ\", \"yo\", \"Read\"),\n",
    "(\"来\", \"く\", \"ku\", \"Come\"),\n",
    "(\"書\", \"か\", \"ka\", \"Write\", \"Book\"),\n",
    "(\"見\", \"み\", \"mi\", \"See\", \"Look\"),\n",
    "(\"行\", \"い\", \"i\", \"Go\"),\n",
    "(\"出\", \"で\", \"de\", \"Exit\", \"Leave\"),\n",
    "(\"入\", \"い\", \"i\", \"Enter\", \"Insert\"),\n",
    "(\"会\", \"か\", \"ka\", \"Meet\", \"Party\"),\n",
    "(\"青\", \"あお\", \"ao\", \"Blue\", \"Green\"),\n",
    "(\"赤\", \"あか\", \"aka\", \"Red\"),\n",
    "(\"明\", \"あか\", \"aka\", \"Bright\", \"Clear\"),\n",
    "(\"秋\", \"あき\", \"aki\", \"Autumn\", \"Fall\"),\n",
    "(\"空\", \"そら\", \"sora\", \"Sky\"),\n",
    "(\"開\", \"ひら\", \"hira\", \"Open\"),\n",
    "(\"悪\", \"わる\", \"waru\", \"Bad\", \"Evil\"),\n",
    "(\"朝\", \"あさ\", \"asa\", \"Morning\"),\n",
    "(\"字\", \"じ\", \"ji\", \"Character\", \"Letter\"),\n",
    "(\"足\", \"あし\", \"ashi\", \"Foot\", \"Leg\"),\n",
    "(\"味\", \"あじ\", \"aji\", \"Taste\", \"Flavor\"),\n",
    "(\"新\", \"あたら\", \"atarashi\", \"New\"),\n",
    "(\"兄\", \"あに\", \"ani\", \"Elder brother\"),\n",
    "(\"姉\", \"あね\", \"ane\", \"Elder sister\"),\n",
    "(\"歩\", \"ある\", \"aru\", \"Walk\"),\n",
    "(\"有\", \"ある\", \"aru\", \"Exist\", \"Have\"),\n",
    "(\"安\", \"やす\", \"yasu\", \"Peace\", \"Cheap\"),\n",
    "(\"医\", \"い\", \"i\", \"Doctor\"),\n",
    "(\"集\", \"あつ\", \"atsu\", \"Gather\", \"Collect\"),\n",
    "(\"本\", \"ほん\", \"hon\", \"Book\"),\n",
    "(\"休\", \"やす\", \"yasu\", \"Rest\", \"Holiday\"),\n",
    "(\"先\", \"さき\", \"saki\", \"Previous\", \"Ahead\"),\n",
    "(\"今\", \"いま\", \"ima\", \"Now\"),\n",
    "(\"東\", \"ひがし\", \"higashi\", \"East\")\n",
    "]\n",
    "print(len(japanese_words))"
   ]
  },
  {
   "cell_type": "code",
   "execution_count": 43,
   "id": "9ac3933e-6dc3-46b7-ac71-f23edb0ea182",
   "metadata": {},
   "outputs": [
    {
     "data": {
      "text/html": [
       "<div>\n",
       "<style scoped>\n",
       "    .dataframe tbody tr th:only-of-type {\n",
       "        vertical-align: middle;\n",
       "    }\n",
       "\n",
       "    .dataframe tbody tr th {\n",
       "        vertical-align: top;\n",
       "    }\n",
       "\n",
       "    .dataframe thead th {\n",
       "        text-align: right;\n",
       "    }\n",
       "</style>\n",
       "<table border=\"1\" class=\"dataframe\">\n",
       "  <thead>\n",
       "    <tr style=\"text-align: right;\">\n",
       "      <th></th>\n",
       "      <th>Kanji</th>\n",
       "      <th>Hiragana</th>\n",
       "      <th>Romanji</th>\n",
       "      <th>English1</th>\n",
       "      <th>English2</th>\n",
       "      <th>Difficulty</th>\n",
       "      <th>Kanji number</th>\n",
       "    </tr>\n",
       "  </thead>\n",
       "  <tbody>\n",
       "    <tr>\n",
       "      <th>0</th>\n",
       "      <td>一</td>\n",
       "      <td>いち</td>\n",
       "      <td>ichi</td>\n",
       "      <td>One</td>\n",
       "      <td>None</td>\n",
       "      <td>unknown</td>\n",
       "      <td>1</td>\n",
       "    </tr>\n",
       "    <tr>\n",
       "      <th>1</th>\n",
       "      <td>二</td>\n",
       "      <td>に</td>\n",
       "      <td>ni</td>\n",
       "      <td>Two</td>\n",
       "      <td>None</td>\n",
       "      <td>unknown</td>\n",
       "      <td>2</td>\n",
       "    </tr>\n",
       "    <tr>\n",
       "      <th>2</th>\n",
       "      <td>三</td>\n",
       "      <td>さん</td>\n",
       "      <td>san</td>\n",
       "      <td>Three</td>\n",
       "      <td>None</td>\n",
       "      <td>unknown</td>\n",
       "      <td>3</td>\n",
       "    </tr>\n",
       "    <tr>\n",
       "      <th>3</th>\n",
       "      <td>四</td>\n",
       "      <td>し</td>\n",
       "      <td>shi</td>\n",
       "      <td>Four</td>\n",
       "      <td>None</td>\n",
       "      <td>unknown</td>\n",
       "      <td>4</td>\n",
       "    </tr>\n",
       "    <tr>\n",
       "      <th>4</th>\n",
       "      <td>五</td>\n",
       "      <td>ご</td>\n",
       "      <td>go</td>\n",
       "      <td>Five</td>\n",
       "      <td>None</td>\n",
       "      <td>unknown</td>\n",
       "      <td>5</td>\n",
       "    </tr>\n",
       "    <tr>\n",
       "      <th>...</th>\n",
       "      <td>...</td>\n",
       "      <td>...</td>\n",
       "      <td>...</td>\n",
       "      <td>...</td>\n",
       "      <td>...</td>\n",
       "      <td>...</td>\n",
       "      <td>...</td>\n",
       "    </tr>\n",
       "    <tr>\n",
       "      <th>95</th>\n",
       "      <td>本</td>\n",
       "      <td>ほん</td>\n",
       "      <td>hon</td>\n",
       "      <td>Book</td>\n",
       "      <td>None</td>\n",
       "      <td>unknown</td>\n",
       "      <td>96</td>\n",
       "    </tr>\n",
       "    <tr>\n",
       "      <th>96</th>\n",
       "      <td>休</td>\n",
       "      <td>やす</td>\n",
       "      <td>yasu</td>\n",
       "      <td>Rest</td>\n",
       "      <td>Holiday</td>\n",
       "      <td>unknown</td>\n",
       "      <td>97</td>\n",
       "    </tr>\n",
       "    <tr>\n",
       "      <th>97</th>\n",
       "      <td>先</td>\n",
       "      <td>さき</td>\n",
       "      <td>saki</td>\n",
       "      <td>Previous</td>\n",
       "      <td>Ahead</td>\n",
       "      <td>unknown</td>\n",
       "      <td>98</td>\n",
       "    </tr>\n",
       "    <tr>\n",
       "      <th>98</th>\n",
       "      <td>今</td>\n",
       "      <td>いま</td>\n",
       "      <td>ima</td>\n",
       "      <td>Now</td>\n",
       "      <td>None</td>\n",
       "      <td>unknown</td>\n",
       "      <td>99</td>\n",
       "    </tr>\n",
       "    <tr>\n",
       "      <th>99</th>\n",
       "      <td>東</td>\n",
       "      <td>ひがし</td>\n",
       "      <td>higashi</td>\n",
       "      <td>East</td>\n",
       "      <td>None</td>\n",
       "      <td>unknown</td>\n",
       "      <td>100</td>\n",
       "    </tr>\n",
       "  </tbody>\n",
       "</table>\n",
       "<p>100 rows × 7 columns</p>\n",
       "</div>"
      ],
      "text/plain": [
       "   Kanji Hiragana  Romanji  English1 English2 Difficulty  Kanji number\n",
       "0      一       いち     ichi       One     None    unknown             1\n",
       "1      二        に       ni       Two     None    unknown             2\n",
       "2      三       さん      san     Three     None    unknown             3\n",
       "3      四        し      shi      Four     None    unknown             4\n",
       "4      五        ご       go      Five     None    unknown             5\n",
       "..   ...      ...      ...       ...      ...        ...           ...\n",
       "95     本       ほん      hon      Book     None    unknown            96\n",
       "96     休       やす     yasu      Rest  Holiday    unknown            97\n",
       "97     先       さき     saki  Previous    Ahead    unknown            98\n",
       "98     今       いま      ima       Now     None    unknown            99\n",
       "99     東      ひがし  higashi      East     None    unknown           100\n",
       "\n",
       "[100 rows x 7 columns]"
      ]
     },
     "metadata": {},
     "output_type": "display_data"
    }
   ],
   "source": [
    "# Create the DataFrame with appropriate column names\n",
    "df = pd.DataFrame(japanese_words, columns=[\"Kanji\", \"Hiragana\", \"Romanji\", \"English1\",\"English2\"])\n",
    "df[\"Difficulty\"] = \"unknown\"\n",
    "df[\"Kanji number\"] = df.index + 1\n",
    "# Print the DataFrame\n",
    "display(df)"
   ]
  },
  {
   "cell_type": "code",
   "execution_count": 53,
   "id": "f7b7d0dd-6cee-433d-b4bc-23063a6d99c6",
   "metadata": {},
   "outputs": [
    {
     "name": "stdin",
     "output_type": "stream",
     "text": [
      "How many questions do you want? 5\n"
     ]
    },
    {
     "name": "stdout",
     "output_type": "stream",
     "text": [
      "Welcome to the Japanese Quiz!\n",
      "Guess the English translation for the following Japanese words:\n",
      "\n",
      "Question 1:\n",
      "What is the English translation of '女'?\n"
     ]
    },
    {
     "name": "stdin",
     "output_type": "stream",
     "text": [
      "女: your answer woman\n"
     ]
    },
    {
     "name": "stdout",
     "output_type": "stream",
     "text": [
      "Woman or Female is correct! Great job! Question removed from quiz.\n"
     ]
    },
    {
     "name": "stdin",
     "output_type": "stream",
     "text": [
      "Do you want to continue? (y/n)  y\n"
     ]
    },
    {
     "name": "stdout",
     "output_type": "stream",
     "text": [
      "\n",
      "Question 2:\n",
      "What is the English translation of '来'?\n"
     ]
    },
    {
     "name": "stdin",
     "output_type": "stream",
     "text": [
      "来: your answer half\n"
     ]
    },
    {
     "name": "stdout",
     "output_type": "stream",
     "text": [
      "Sorry, 'half' is incorrect.\n",
      "Hint 1: the hiragana for this word is く\n"
     ]
    },
    {
     "name": "stdin",
     "output_type": "stream",
     "text": [
      "く: your answer \n"
     ]
    },
    {
     "name": "stdout",
     "output_type": "stream",
     "text": [
      "Sorry, '' is incorrect.\n",
      "Hint 2: the romanji for this word is ku\n"
     ]
    },
    {
     "name": "stdin",
     "output_type": "stream",
     "text": [
      "ku: your answer \n"
     ]
    },
    {
     "name": "stdout",
     "output_type": "stream",
     "text": [
      "Sorry, the correct translation is 'Come'.\n"
     ]
    },
    {
     "name": "stdin",
     "output_type": "stream",
     "text": [
      "Do you want to continue? (y/n)  y\n"
     ]
    },
    {
     "name": "stdout",
     "output_type": "stream",
     "text": [
      "\n",
      "Question 3:\n",
      "What is the English translation of '南'?\n"
     ]
    },
    {
     "name": "stdin",
     "output_type": "stream",
     "text": [
      "南: your answer south\n"
     ]
    },
    {
     "name": "stdout",
     "output_type": "stream",
     "text": [
      "South is correct! Great job! Question removed from quiz.\n"
     ]
    },
    {
     "name": "stdin",
     "output_type": "stream",
     "text": [
      "Do you want to continue? (y/n)  y\n"
     ]
    },
    {
     "name": "stdout",
     "output_type": "stream",
     "text": [
      "\n",
      "Question 4:\n",
      "What is the English translation of '有'?\n"
     ]
    },
    {
     "name": "stdin",
     "output_type": "stream",
     "text": [
      "有: your answer right\n"
     ]
    },
    {
     "name": "stdout",
     "output_type": "stream",
     "text": [
      "Sorry, 'right' is incorrect.\n",
      "Hint 1: the hiragana for this word is ある\n"
     ]
    },
    {
     "name": "stdin",
     "output_type": "stream",
     "text": [
      "ある: your answer autumn\n"
     ]
    },
    {
     "name": "stdout",
     "output_type": "stream",
     "text": [
      "Sorry, 'autumn' is incorrect.\n",
      "Hint 2: the romanji for this word is aru\n"
     ]
    },
    {
     "name": "stdin",
     "output_type": "stream",
     "text": [
      "aru: your answer \n"
     ]
    },
    {
     "name": "stdout",
     "output_type": "stream",
     "text": [
      "Sorry, the correct translation is 'Exist or Have'.\n"
     ]
    },
    {
     "name": "stdin",
     "output_type": "stream",
     "text": [
      "Do you want to continue? (y/n)  y\n"
     ]
    },
    {
     "name": "stdout",
     "output_type": "stream",
     "text": [
      "\n",
      "Question 5:\n",
      "What is the English translation of '朝'?\n"
     ]
    },
    {
     "name": "stdin",
     "output_type": "stream",
     "text": [
      "朝: your answer go\n"
     ]
    },
    {
     "name": "stdout",
     "output_type": "stream",
     "text": [
      "Sorry, 'go' is incorrect.\n",
      "Hint 1: the hiragana for this word is あさ\n"
     ]
    },
    {
     "name": "stdin",
     "output_type": "stream",
     "text": [
      "あさ: your answer \n"
     ]
    },
    {
     "name": "stdout",
     "output_type": "stream",
     "text": [
      "Sorry, '' is incorrect.\n",
      "Hint 2: the romanji for this word is asa\n"
     ]
    },
    {
     "name": "stdin",
     "output_type": "stream",
     "text": [
      "asa: your answer \n"
     ]
    },
    {
     "name": "stdout",
     "output_type": "stream",
     "text": [
      "Sorry, the correct translation is 'Morning'.\n",
      "\n",
      "Quiz completed!\n",
      "You got 2 out of 5 questions correct.\n"
     ]
    }
   ],
   "source": [
    "def japanese_quiz():\n",
    "    # Shuffle the DataFrame to randomize the order of questions\n",
    "    df_not_easy = df[df[\"Difficulty\"] != \"Easy\"]\n",
    "    shuffled_df = df_not_easy.sample(frac=1).reset_index(drop=True)\n",
    "    quiz_length = int(input(\"How many questions do you want?\"))\n",
    "    shuffled_df_head = shuffled_df.head(quiz_length)\n",
    "\n",
    "    # Initialize a counter to keep track of the score\n",
    "    score = 0\n",
    "    \n",
    "    # Intro\n",
    "    print(\"Welcome to the Japanese Quiz!\")\n",
    "    print(\"Guess the English translation for the following Japanese words:\")\n",
    "\n",
    "    for index, row in shuffled_df_head.iterrows():\n",
    "        kanji = row[\"Kanji\"]\n",
    "        hint1 = row[\"Hiragana\"]\n",
    "        hint2 = row[\"Romanji\"]\n",
    "        correct_answer = row[\"English1\"]\n",
    "        df_row_indicator = row[\"Kanji number\"]\n",
    "        if pd.isna(row[\"English2\"]):\n",
    "            correct_answer2 = \"No second correct answer\"\n",
    "            reveal_answer = correct_answer\n",
    "        else:\n",
    "            correct_answer2 = row[\"English2\"]\n",
    "            reveal_answer = correct_answer + \" or \" + correct_answer2\n",
    "        \n",
    "        #--------------#\n",
    "        # Ask question #\n",
    "        #--------------#\n",
    "        print(f\"\\nQuestion {index + 1}:\")\n",
    "        print(f\"What is the English translation of '{kanji}'?\")\n",
    "        user_answer = input(kanji + \": your answer\")\n",
    "\n",
    "        # If user answers correct, add to score and go to end of question\n",
    "        if user_answer.lower() == correct_answer.lower() or user_answer.lower() == correct_answer2.lower():\n",
    "            print(reveal_answer + \" is correct! Great job! Question removed from quiz.\")\n",
    "            score += 1\n",
    "            df.at[df_row_indicator-1, 'Difficulty'] = \"Easy\"\n",
    "        else:\n",
    "            \n",
    "            #-------------#\n",
    "            # Give a hint #\n",
    "            #-------------#\n",
    "            print(f\"Sorry, '{user_answer}' is incorrect.\")\n",
    "            print(\"Hint 1: the hiragana for this word is \" + hint1)\n",
    "            user_answer2 = input(hint1 +\": your answer\")\n",
    "\n",
    "            # If user answers correct, add to score and go to end of question\n",
    "            if user_answer2.lower() == correct_answer.lower():\n",
    "                print(reveal_answer + \" is correct! Great job!\")\n",
    "                score += 1\n",
    "                df.at[df_row_indicator-1, 'Difficulty'] = \"Medium\"\n",
    "            else:\n",
    "                \n",
    "                #-------------------#\n",
    "                # Give another hint #\n",
    "                #-------------------#\n",
    "                print(f\"Sorry, '{user_answer2}' is incorrect.\")\n",
    "                print(\"Hint 2: the romanji for this word is \" + hint2)\n",
    "                user_answer3 = input(hint2 + \": your answer\")\n",
    "\n",
    "                # If user answers correct, add to score and go to end of question\n",
    "                if user_answer3.lower() == correct_answer.lower():\n",
    "                    print(reveal_answer + \" is correct! Great job!\")\n",
    "                    score += 1\n",
    "                    df.at[df_row_indicator-1, 'Difficulty'] = \"Hard\"\n",
    "                else:\n",
    "                    # Give answer\n",
    "                    print(f\"Sorry, the correct translation is '{reveal_answer}'.\")\n",
    "                    \n",
    "        #-----------------#\n",
    "        # End of Question #\n",
    "        #-----------------#\n",
    "        # Ask the user if they want to continue or quit the quiz\n",
    "        if index + 1 == quiz_length:\n",
    "            break\n",
    "        else:\n",
    "            continue_or_quit = input(\"Do you want to continue? (y/n) \")\n",
    "    \n",
    "            if continue_or_quit.lower() != \"y\":\n",
    "                break\n",
    "\n",
    "    print(\"\\nQuiz completed!\")\n",
    "    print(f\"You got {score} out of {len(shuffled_df_head)} questions correct.\")\n",
    "\n",
    "if __name__ == \"__main__\":\n",
    "    japanese_quiz()"
   ]
  },
  {
   "cell_type": "code",
   "execution_count": 54,
   "id": "14c690f4-0726-4827-9b42-6c3855df5033",
   "metadata": {},
   "outputs": [
    {
     "data": {
      "text/html": [
       "<div>\n",
       "<style scoped>\n",
       "    .dataframe tbody tr th:only-of-type {\n",
       "        vertical-align: middle;\n",
       "    }\n",
       "\n",
       "    .dataframe tbody tr th {\n",
       "        vertical-align: top;\n",
       "    }\n",
       "\n",
       "    .dataframe thead th {\n",
       "        text-align: right;\n",
       "    }\n",
       "</style>\n",
       "<table border=\"1\" class=\"dataframe\">\n",
       "  <thead>\n",
       "    <tr style=\"text-align: right;\">\n",
       "      <th></th>\n",
       "      <th>Kanji</th>\n",
       "      <th>Hiragana</th>\n",
       "      <th>Romanji</th>\n",
       "      <th>English1</th>\n",
       "      <th>English2</th>\n",
       "      <th>Difficulty</th>\n",
       "      <th>Kanji number</th>\n",
       "    </tr>\n",
       "  </thead>\n",
       "  <tbody>\n",
       "    <tr>\n",
       "      <th>4</th>\n",
       "      <td>五</td>\n",
       "      <td>ご</td>\n",
       "      <td>go</td>\n",
       "      <td>Five</td>\n",
       "      <td>None</td>\n",
       "      <td>Easy</td>\n",
       "      <td>5</td>\n",
       "    </tr>\n",
       "    <tr>\n",
       "      <th>7</th>\n",
       "      <td>八</td>\n",
       "      <td>はち</td>\n",
       "      <td>hachi</td>\n",
       "      <td>Eight</td>\n",
       "      <td>None</td>\n",
       "      <td>Easy</td>\n",
       "      <td>8</td>\n",
       "    </tr>\n",
       "    <tr>\n",
       "      <th>16</th>\n",
       "      <td>女</td>\n",
       "      <td>おんな</td>\n",
       "      <td>onna</td>\n",
       "      <td>Woman</td>\n",
       "      <td>Female</td>\n",
       "      <td>Easy</td>\n",
       "      <td>17</td>\n",
       "    </tr>\n",
       "    <tr>\n",
       "      <th>22</th>\n",
       "      <td>火</td>\n",
       "      <td>ひ</td>\n",
       "      <td>hi</td>\n",
       "      <td>Fire</td>\n",
       "      <td>None</td>\n",
       "      <td>Easy</td>\n",
       "      <td>23</td>\n",
       "    </tr>\n",
       "    <tr>\n",
       "      <th>24</th>\n",
       "      <td>木</td>\n",
       "      <td>き</td>\n",
       "      <td>ki</td>\n",
       "      <td>Tree</td>\n",
       "      <td>Wood</td>\n",
       "      <td>Easy</td>\n",
       "      <td>25</td>\n",
       "    </tr>\n",
       "    <tr>\n",
       "      <th>32</th>\n",
       "      <td>時</td>\n",
       "      <td>じ</td>\n",
       "      <td>ji</td>\n",
       "      <td>Time</td>\n",
       "      <td>Hour</td>\n",
       "      <td>Medium</td>\n",
       "      <td>33</td>\n",
       "    </tr>\n",
       "    <tr>\n",
       "      <th>34</th>\n",
       "      <td>毎</td>\n",
       "      <td>まい</td>\n",
       "      <td>mai</td>\n",
       "      <td>Every</td>\n",
       "      <td>None</td>\n",
       "      <td>Easy</td>\n",
       "      <td>35</td>\n",
       "    </tr>\n",
       "    <tr>\n",
       "      <th>41</th>\n",
       "      <td>南</td>\n",
       "      <td>みなみ</td>\n",
       "      <td>minami</td>\n",
       "      <td>South</td>\n",
       "      <td>None</td>\n",
       "      <td>Easy</td>\n",
       "      <td>42</td>\n",
       "    </tr>\n",
       "    <tr>\n",
       "      <th>53</th>\n",
       "      <td>校</td>\n",
       "      <td>こう</td>\n",
       "      <td>kou</td>\n",
       "      <td>School</td>\n",
       "      <td>None</td>\n",
       "      <td>Easy</td>\n",
       "      <td>54</td>\n",
       "    </tr>\n",
       "    <tr>\n",
       "      <th>56</th>\n",
       "      <td>川</td>\n",
       "      <td>かわ</td>\n",
       "      <td>kawa</td>\n",
       "      <td>River</td>\n",
       "      <td>None</td>\n",
       "      <td>Easy</td>\n",
       "      <td>57</td>\n",
       "    </tr>\n",
       "    <tr>\n",
       "      <th>67</th>\n",
       "      <td>食</td>\n",
       "      <td>たべ</td>\n",
       "      <td>tabe</td>\n",
       "      <td>Eat</td>\n",
       "      <td>Food</td>\n",
       "      <td>Easy</td>\n",
       "      <td>68</td>\n",
       "    </tr>\n",
       "    <tr>\n",
       "      <th>84</th>\n",
       "      <td>字</td>\n",
       "      <td>じ</td>\n",
       "      <td>ji</td>\n",
       "      <td>Character</td>\n",
       "      <td>Letter</td>\n",
       "      <td>Medium</td>\n",
       "      <td>85</td>\n",
       "    </tr>\n",
       "    <tr>\n",
       "      <th>92</th>\n",
       "      <td>安</td>\n",
       "      <td>やす</td>\n",
       "      <td>yasu</td>\n",
       "      <td>Peace</td>\n",
       "      <td>Cheap</td>\n",
       "      <td>Easy</td>\n",
       "      <td>93</td>\n",
       "    </tr>\n",
       "  </tbody>\n",
       "</table>\n",
       "</div>"
      ],
      "text/plain": [
       "   Kanji Hiragana Romanji   English1 English2 Difficulty  Kanji number\n",
       "4      五        ご      go       Five     None       Easy             5\n",
       "7      八       はち   hachi      Eight     None       Easy             8\n",
       "16     女      おんな    onna      Woman   Female       Easy            17\n",
       "22     火        ひ      hi       Fire     None       Easy            23\n",
       "24     木        き      ki       Tree     Wood       Easy            25\n",
       "32     時        じ      ji       Time     Hour     Medium            33\n",
       "34     毎       まい     mai      Every     None       Easy            35\n",
       "41     南      みなみ  minami      South     None       Easy            42\n",
       "53     校       こう     kou     School     None       Easy            54\n",
       "56     川       かわ    kawa      River     None       Easy            57\n",
       "67     食       たべ    tabe        Eat     Food       Easy            68\n",
       "84     字        じ      ji  Character   Letter     Medium            85\n",
       "92     安       やす    yasu      Peace    Cheap       Easy            93"
      ]
     },
     "metadata": {},
     "output_type": "display_data"
    }
   ],
   "source": [
    "df_easy = df[df[\"Difficulty\"] != \"unknown\"]\n",
    "display(df_easy)"
   ]
  },
  {
   "cell_type": "code",
   "execution_count": null,
   "id": "23fd4f02-7910-49da-b1cb-3389c57cae52",
   "metadata": {},
   "outputs": [],
   "source": []
  }
 ],
 "metadata": {
  "kernelspec": {
   "display_name": "Python 3 (ipykernel)",
   "language": "python",
   "name": "python3"
  },
  "language_info": {
   "codemirror_mode": {
    "name": "ipython",
    "version": 3
   },
   "file_extension": ".py",
   "mimetype": "text/x-python",
   "name": "python",
   "nbconvert_exporter": "python",
   "pygments_lexer": "ipython3",
   "version": "3.11.4"
  }
 },
 "nbformat": 4,
 "nbformat_minor": 5
}
